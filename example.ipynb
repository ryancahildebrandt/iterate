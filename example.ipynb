{
 "cells": [
  {
   "cell_type": "code",
   "execution_count": null,
   "metadata": {},
   "outputs": [],
   "source": []
  }
 ],
 "metadata": {
  "kernelspec": {
   "display_name": "iterate_env",
   "language": "python",
   "name": "python3"
  },
  "language_info": {
   "name": "python",
   "version": "3.11.3 (main, May 15 2023, 15:45:52) [GCC 11.2.0]"
  },
  "orig_nbformat": 4,
  "vscode": {
   "interpreter": {
    "hash": "79b700ba8454566ace4804f37dec8d88f0054055b9dc80c6230cec30fa9562fc"
   }
  }
 },
 "nbformat": 4,
 "nbformat_minor": 2
}
